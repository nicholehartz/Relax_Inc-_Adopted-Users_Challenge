{
 "cells": [
  {
   "cell_type": "markdown",
   "metadata": {},
   "source": [
    "# Adopted Users Challenge"
   ]
  },
  {
   "cell_type": "markdown",
   "metadata": {},
   "source": [
    "## Import Relevant Packages"
   ]
  },
  {
   "cell_type": "code",
   "execution_count": 1,
   "metadata": {},
   "outputs": [],
   "source": [
    "import pandas as pd\n",
    "import matplotlib.pyplot as plt\n",
    "import numpy as np\n",
    "from sklearn.preprocessing import StandardScaler\n",
    "from sklearn.model_selection import train_test_split\n",
    "from sklearn.model_selection import RandomizedSearchCV\n",
    "from sklearn.model_selection import cross_val_score\n",
    "from sklearn.metrics import make_scorer, accuracy_score, classification_report\n",
    "import timeit\n",
    "from sklearn.ensemble import RandomForestClassifier"
   ]
  },
  {
   "cell_type": "markdown",
   "metadata": {},
   "source": [
    "## Import Data"
   ]
  },
  {
   "cell_type": "code",
   "execution_count": 2,
   "metadata": {},
   "outputs": [],
   "source": [
    "user_info = pd.read_csv('takehome_users.csv', encoding='latin-1')\n",
    "user_log = pd.read_csv('takehome_user_engagement.csv')"
   ]
  },
  {
   "cell_type": "markdown",
   "metadata": {},
   "source": [
    "## Explore Raw Data"
   ]
  },
  {
   "cell_type": "code",
   "execution_count": 3,
   "metadata": {},
   "outputs": [
    {
     "data": {
      "text/html": [
       "<div>\n",
       "<style scoped>\n",
       "    .dataframe tbody tr th:only-of-type {\n",
       "        vertical-align: middle;\n",
       "    }\n",
       "\n",
       "    .dataframe tbody tr th {\n",
       "        vertical-align: top;\n",
       "    }\n",
       "\n",
       "    .dataframe thead th {\n",
       "        text-align: right;\n",
       "    }\n",
       "</style>\n",
       "<table border=\"1\" class=\"dataframe\">\n",
       "  <thead>\n",
       "    <tr style=\"text-align: right;\">\n",
       "      <th></th>\n",
       "      <th>object_id</th>\n",
       "      <th>creation_time</th>\n",
       "      <th>name</th>\n",
       "      <th>email</th>\n",
       "      <th>creation_source</th>\n",
       "      <th>last_session_creation_time</th>\n",
       "      <th>opted_in_to_mailing_list</th>\n",
       "      <th>enabled_for_marketing_drip</th>\n",
       "      <th>org_id</th>\n",
       "      <th>invited_by_user_id</th>\n",
       "    </tr>\n",
       "  </thead>\n",
       "  <tbody>\n",
       "    <tr>\n",
       "      <th>0</th>\n",
       "      <td>1</td>\n",
       "      <td>2014-04-22 03:53:30</td>\n",
       "      <td>Clausen August</td>\n",
       "      <td>AugustCClausen@yahoo.com</td>\n",
       "      <td>GUEST_INVITE</td>\n",
       "      <td>1.398139e+09</td>\n",
       "      <td>1</td>\n",
       "      <td>0</td>\n",
       "      <td>11</td>\n",
       "      <td>10803.0</td>\n",
       "    </tr>\n",
       "    <tr>\n",
       "      <th>1</th>\n",
       "      <td>2</td>\n",
       "      <td>2013-11-15 03:45:04</td>\n",
       "      <td>Poole Matthew</td>\n",
       "      <td>MatthewPoole@gustr.com</td>\n",
       "      <td>ORG_INVITE</td>\n",
       "      <td>1.396238e+09</td>\n",
       "      <td>0</td>\n",
       "      <td>0</td>\n",
       "      <td>1</td>\n",
       "      <td>316.0</td>\n",
       "    </tr>\n",
       "    <tr>\n",
       "      <th>2</th>\n",
       "      <td>3</td>\n",
       "      <td>2013-03-19 23:14:52</td>\n",
       "      <td>Bottrill Mitchell</td>\n",
       "      <td>MitchellBottrill@gustr.com</td>\n",
       "      <td>ORG_INVITE</td>\n",
       "      <td>1.363735e+09</td>\n",
       "      <td>0</td>\n",
       "      <td>0</td>\n",
       "      <td>94</td>\n",
       "      <td>1525.0</td>\n",
       "    </tr>\n",
       "    <tr>\n",
       "      <th>3</th>\n",
       "      <td>4</td>\n",
       "      <td>2013-05-21 08:09:28</td>\n",
       "      <td>Clausen Nicklas</td>\n",
       "      <td>NicklasSClausen@yahoo.com</td>\n",
       "      <td>GUEST_INVITE</td>\n",
       "      <td>1.369210e+09</td>\n",
       "      <td>0</td>\n",
       "      <td>0</td>\n",
       "      <td>1</td>\n",
       "      <td>5151.0</td>\n",
       "    </tr>\n",
       "    <tr>\n",
       "      <th>4</th>\n",
       "      <td>5</td>\n",
       "      <td>2013-01-17 10:14:20</td>\n",
       "      <td>Raw Grace</td>\n",
       "      <td>GraceRaw@yahoo.com</td>\n",
       "      <td>GUEST_INVITE</td>\n",
       "      <td>1.358850e+09</td>\n",
       "      <td>0</td>\n",
       "      <td>0</td>\n",
       "      <td>193</td>\n",
       "      <td>5240.0</td>\n",
       "    </tr>\n",
       "  </tbody>\n",
       "</table>\n",
       "</div>"
      ],
      "text/plain": [
       "   object_id        creation_time               name  \\\n",
       "0          1  2014-04-22 03:53:30     Clausen August   \n",
       "1          2  2013-11-15 03:45:04      Poole Matthew   \n",
       "2          3  2013-03-19 23:14:52  Bottrill Mitchell   \n",
       "3          4  2013-05-21 08:09:28    Clausen Nicklas   \n",
       "4          5  2013-01-17 10:14:20          Raw Grace   \n",
       "\n",
       "                        email creation_source  last_session_creation_time  \\\n",
       "0    AugustCClausen@yahoo.com    GUEST_INVITE                1.398139e+09   \n",
       "1      MatthewPoole@gustr.com      ORG_INVITE                1.396238e+09   \n",
       "2  MitchellBottrill@gustr.com      ORG_INVITE                1.363735e+09   \n",
       "3   NicklasSClausen@yahoo.com    GUEST_INVITE                1.369210e+09   \n",
       "4          GraceRaw@yahoo.com    GUEST_INVITE                1.358850e+09   \n",
       "\n",
       "   opted_in_to_mailing_list  enabled_for_marketing_drip  org_id  \\\n",
       "0                         1                           0      11   \n",
       "1                         0                           0       1   \n",
       "2                         0                           0      94   \n",
       "3                         0                           0       1   \n",
       "4                         0                           0     193   \n",
       "\n",
       "   invited_by_user_id  \n",
       "0             10803.0  \n",
       "1               316.0  \n",
       "2              1525.0  \n",
       "3              5151.0  \n",
       "4              5240.0  "
      ]
     },
     "execution_count": 3,
     "metadata": {},
     "output_type": "execute_result"
    }
   ],
   "source": [
    "user_info.head()"
   ]
  },
  {
   "cell_type": "code",
   "execution_count": 4,
   "metadata": {},
   "outputs": [
    {
     "data": {
      "text/html": [
       "<div>\n",
       "<style scoped>\n",
       "    .dataframe tbody tr th:only-of-type {\n",
       "        vertical-align: middle;\n",
       "    }\n",
       "\n",
       "    .dataframe tbody tr th {\n",
       "        vertical-align: top;\n",
       "    }\n",
       "\n",
       "    .dataframe thead th {\n",
       "        text-align: right;\n",
       "    }\n",
       "</style>\n",
       "<table border=\"1\" class=\"dataframe\">\n",
       "  <thead>\n",
       "    <tr style=\"text-align: right;\">\n",
       "      <th></th>\n",
       "      <th>time_stamp</th>\n",
       "      <th>user_id</th>\n",
       "      <th>visited</th>\n",
       "    </tr>\n",
       "  </thead>\n",
       "  <tbody>\n",
       "    <tr>\n",
       "      <th>0</th>\n",
       "      <td>2014-04-22 03:53:30</td>\n",
       "      <td>1</td>\n",
       "      <td>1</td>\n",
       "    </tr>\n",
       "    <tr>\n",
       "      <th>1</th>\n",
       "      <td>2013-11-15 03:45:04</td>\n",
       "      <td>2</td>\n",
       "      <td>1</td>\n",
       "    </tr>\n",
       "    <tr>\n",
       "      <th>2</th>\n",
       "      <td>2013-11-29 03:45:04</td>\n",
       "      <td>2</td>\n",
       "      <td>1</td>\n",
       "    </tr>\n",
       "    <tr>\n",
       "      <th>3</th>\n",
       "      <td>2013-12-09 03:45:04</td>\n",
       "      <td>2</td>\n",
       "      <td>1</td>\n",
       "    </tr>\n",
       "    <tr>\n",
       "      <th>4</th>\n",
       "      <td>2013-12-25 03:45:04</td>\n",
       "      <td>2</td>\n",
       "      <td>1</td>\n",
       "    </tr>\n",
       "  </tbody>\n",
       "</table>\n",
       "</div>"
      ],
      "text/plain": [
       "            time_stamp  user_id  visited\n",
       "0  2014-04-22 03:53:30        1        1\n",
       "1  2013-11-15 03:45:04        2        1\n",
       "2  2013-11-29 03:45:04        2        1\n",
       "3  2013-12-09 03:45:04        2        1\n",
       "4  2013-12-25 03:45:04        2        1"
      ]
     },
     "execution_count": 4,
     "metadata": {},
     "output_type": "execute_result"
    }
   ],
   "source": [
    "user_log.head()"
   ]
  },
  {
   "cell_type": "code",
   "execution_count": 5,
   "metadata": {},
   "outputs": [
    {
     "name": "stdout",
     "output_type": "stream",
     "text": [
      "<class 'pandas.core.frame.DataFrame'>\n",
      "RangeIndex: 12000 entries, 0 to 11999\n",
      "Data columns (total 10 columns):\n",
      " #   Column                      Non-Null Count  Dtype  \n",
      "---  ------                      --------------  -----  \n",
      " 0   object_id                   12000 non-null  int64  \n",
      " 1   creation_time               12000 non-null  object \n",
      " 2   name                        12000 non-null  object \n",
      " 3   email                       12000 non-null  object \n",
      " 4   creation_source             12000 non-null  object \n",
      " 5   last_session_creation_time  8823 non-null   float64\n",
      " 6   opted_in_to_mailing_list    12000 non-null  int64  \n",
      " 7   enabled_for_marketing_drip  12000 non-null  int64  \n",
      " 8   org_id                      12000 non-null  int64  \n",
      " 9   invited_by_user_id          6417 non-null   float64\n",
      "dtypes: float64(2), int64(4), object(4)\n",
      "memory usage: 937.6+ KB\n"
     ]
    }
   ],
   "source": [
    "user_info.info()"
   ]
  },
  {
   "cell_type": "code",
   "execution_count": 6,
   "metadata": {},
   "outputs": [
    {
     "name": "stdout",
     "output_type": "stream",
     "text": [
      "<class 'pandas.core.frame.DataFrame'>\n",
      "RangeIndex: 207917 entries, 0 to 207916\n",
      "Data columns (total 3 columns):\n",
      " #   Column      Non-Null Count   Dtype \n",
      "---  ------      --------------   ----- \n",
      " 0   time_stamp  207917 non-null  object\n",
      " 1   user_id     207917 non-null  int64 \n",
      " 2   visited     207917 non-null  int64 \n",
      "dtypes: int64(2), object(1)\n",
      "memory usage: 4.8+ MB\n"
     ]
    }
   ],
   "source": [
    "user_log.info()"
   ]
  },
  {
   "cell_type": "code",
   "execution_count": 7,
   "metadata": {},
   "outputs": [
    {
     "data": {
      "text/plain": [
       "(12000, 10)"
      ]
     },
     "execution_count": 7,
     "metadata": {},
     "output_type": "execute_result"
    }
   ],
   "source": [
    "user_info.shape"
   ]
  },
  {
   "cell_type": "code",
   "execution_count": 8,
   "metadata": {},
   "outputs": [
    {
     "data": {
      "text/plain": [
       "(207917, 3)"
      ]
     },
     "execution_count": 8,
     "metadata": {},
     "output_type": "execute_result"
    }
   ],
   "source": [
    "user_log.shape"
   ]
  },
  {
   "cell_type": "markdown",
   "metadata": {},
   "source": [
    "## Data Definitions"
   ]
  },
  {
   "cell_type": "markdown",
   "metadata": {},
   "source": [
    "**user_info**\n",
    "- name: the user's name\n",
    "- object_id: the user's id\n",
    "- email: email address\n",
    "- creation_source: how their account was created. This takes on one\n",
    "of 5 values:\n",
    "- - PERSONAL_PROJECTS: invited to join another user's\n",
    "personal workspace\n",
    "- - GUEST_INVITE: invited to an organization as a guest\n",
    "(limited permissions)\n",
    "- - ORG_INVITE: invited to an organization (as a full member)\n",
    "- - SIGNUP: signed up via the website\n",
    "- - SIGNUP_GOOGLE_AUTH: signed up using Google\n",
    "Authentication (using a Google email account for their login\n",
    "id)\n",
    "- creation_time: when they created their account\n",
    "- last_session_creation_time: unix timestamp of last login\n",
    "- opted_in_to_mailing_list: whether they have opted into receiving\n",
    "marketing emails\n",
    "- enabled_for_marketing_drip: whether they are on the regular\n",
    "marketing email drip\n",
    "- org_id: the organization (group of users) they belong to\n",
    "- invited_by_user_id: which user invited them to join (if applicable)."
   ]
  },
  {
   "cell_type": "markdown",
   "metadata": {},
   "source": [
    "**user_log**\n",
    "- time_stamp: time of login\n",
    "- user_id: ID of user logging in\n",
    "- visited: login count"
   ]
  },
  {
   "cell_type": "markdown",
   "metadata": {},
   "source": [
    "## Data Wrangling"
   ]
  },
  {
   "cell_type": "markdown",
   "metadata": {},
   "source": [
    "### Drop Columns"
   ]
  },
  {
   "cell_type": "code",
   "execution_count": 9,
   "metadata": {},
   "outputs": [],
   "source": [
    "# Drop last session creation time column\n",
    "# Contains 26% null values and info is available in user_log\n",
    "user_info.drop('last_session_creation_time', axis=1, inplace=True)"
   ]
  },
  {
   "cell_type": "markdown",
   "metadata": {},
   "source": [
    "### Remove Null Values"
   ]
  },
  {
   "cell_type": "code",
   "execution_count": 10,
   "metadata": {},
   "outputs": [
    {
     "name": "stdout",
     "output_type": "stream",
     "text": [
      "In user_info there is a user ID = 0:  False\n",
      "In user_log there is a user ID = 0:  False\n"
     ]
    }
   ],
   "source": [
    "# Ensure no 0 user ID\n",
    "print('In user_info there is a user ID = 0: ', \n",
    "      ((user_info['invited_by_user_id'].min() == 0)\n",
    "       & (user_info['object_id'] == 0)).values.any())\n",
    "print('In user_log there is a user ID = 0: ', \n",
    "      user_log['user_id'].min() == 0)\n",
    "\n",
    "# Replace NaN values with 0\n",
    "# Do not want to drop columns\n",
    "# NaN columns indicate user was not invited\n",
    "user_info['invited_by_user_id'].fillna(0, inplace=True)"
   ]
  },
  {
   "cell_type": "code",
   "execution_count": 11,
   "metadata": {},
   "outputs": [
    {
     "name": "stdout",
     "output_type": "stream",
     "text": [
      "No null values remain in user_info:  True\n",
      "No null values remain in user_log:  True\n"
     ]
    }
   ],
   "source": [
    "# Ensure no null values remain in user_info dataframe\n",
    "print('No null values remain in user_info: ', user_info.notnull().values.any())\n",
    "\n",
    "# Ensure no null values remain in user_log dataframe\n",
    "print('No null values remain in user_log: ', user_log.notnull().values.any())"
   ]
  },
  {
   "cell_type": "markdown",
   "metadata": {},
   "source": [
    "### Correct Dtypes"
   ]
  },
  {
   "cell_type": "code",
   "execution_count": 12,
   "metadata": {},
   "outputs": [],
   "source": [
    "# Convert invited by user id to integer\n",
    "user_info['invited_by_user_id'] = user_info['invited_by_user_id'].astype('int')\n",
    "\n",
    "# Convert opted in to mailing list and enabled for marketing drip columns into bools\n",
    "user_info[['opted_in_to_mailing_list', 'enabled_for_marketing_drip']] = user_info[['opted_in_to_mailing_list', 'enabled_for_marketing_drip']].astype('bool')\n",
    "\n",
    "# Convert creation time and time stamp columns to datetime objects\n",
    "user_info['creation_time'] = user_info['creation_time'].astype('datetime64[ns]')\n",
    "user_log['time_stamp'] = user_log['time_stamp'].astype('datetime64[ns]')"
   ]
  },
  {
   "cell_type": "markdown",
   "metadata": {},
   "source": [
    "### Check Columns Values\n",
    "\n",
    "Verify no errors in remaining columns"
   ]
  },
  {
   "cell_type": "code",
   "execution_count": 13,
   "metadata": {},
   "outputs": [
    {
     "name": "stdout",
     "output_type": "stream",
     "text": [
      "<class 'pandas.core.frame.DataFrame'>\n",
      "RangeIndex: 12000 entries, 0 to 11999\n",
      "Data columns (total 9 columns):\n",
      " #   Column                      Non-Null Count  Dtype         \n",
      "---  ------                      --------------  -----         \n",
      " 0   object_id                   12000 non-null  int64         \n",
      " 1   creation_time               12000 non-null  datetime64[ns]\n",
      " 2   name                        12000 non-null  object        \n",
      " 3   email                       12000 non-null  object        \n",
      " 4   creation_source             12000 non-null  object        \n",
      " 5   opted_in_to_mailing_list    12000 non-null  bool          \n",
      " 6   enabled_for_marketing_drip  12000 non-null  bool          \n",
      " 7   org_id                      12000 non-null  int64         \n",
      " 8   invited_by_user_id          12000 non-null  int64         \n",
      "dtypes: bool(2), datetime64[ns](1), int64(3), object(3)\n",
      "memory usage: 679.8+ KB\n"
     ]
    }
   ],
   "source": [
    "user_info.info()"
   ]
  },
  {
   "cell_type": "code",
   "execution_count": 14,
   "metadata": {},
   "outputs": [
    {
     "name": "stdout",
     "output_type": "stream",
     "text": [
      "<class 'pandas.core.frame.DataFrame'>\n",
      "RangeIndex: 207917 entries, 0 to 207916\n",
      "Data columns (total 3 columns):\n",
      " #   Column      Non-Null Count   Dtype         \n",
      "---  ------      --------------   -----         \n",
      " 0   time_stamp  207917 non-null  datetime64[ns]\n",
      " 1   user_id     207917 non-null  int64         \n",
      " 2   visited     207917 non-null  int64         \n",
      "dtypes: datetime64[ns](1), int64(2)\n",
      "memory usage: 4.8 MB\n"
     ]
    }
   ],
   "source": [
    "user_log.info()"
   ]
  },
  {
   "cell_type": "code",
   "execution_count": 15,
   "metadata": {},
   "outputs": [
    {
     "name": "stdout",
     "output_type": "stream",
     "text": [
      "1\n",
      "12000\n"
     ]
    }
   ],
   "source": [
    "print(user_info['object_id'].min())\n",
    "print(user_info['object_id'].max())"
   ]
  },
  {
   "cell_type": "code",
   "execution_count": 16,
   "metadata": {},
   "outputs": [
    {
     "data": {
      "text/plain": [
       "array(['GUEST_INVITE', 'ORG_INVITE', 'SIGNUP', 'PERSONAL_PROJECTS',\n",
       "       'SIGNUP_GOOGLE_AUTH'], dtype=object)"
      ]
     },
     "execution_count": 16,
     "metadata": {},
     "output_type": "execute_result"
    }
   ],
   "source": [
    "user_info['creation_source'].unique()"
   ]
  },
  {
   "cell_type": "code",
   "execution_count": 17,
   "metadata": {},
   "outputs": [
    {
     "name": "stdout",
     "output_type": "stream",
     "text": [
      "0\n",
      "416\n"
     ]
    },
    {
     "data": {
      "text/plain": [
       "12000"
      ]
     },
     "execution_count": 17,
     "metadata": {},
     "output_type": "execute_result"
    }
   ],
   "source": [
    "print(user_info['org_id'].min())\n",
    "print(user_info['org_id'].max())\n",
    "user_info['object_id'].nunique()"
   ]
  },
  {
   "cell_type": "markdown",
   "metadata": {},
   "source": [
    "## Data Wrangling"
   ]
  },
  {
   "cell_type": "code",
   "execution_count": 18,
   "metadata": {},
   "outputs": [],
   "source": [
    "# Add column for start of week date\n",
    "user_log['week_start_date'] = user_log['time_stamp'] - pd.to_timedelta(7, unit='d')\n",
    "\n",
    "# Groupby user_id then week_start_date\n",
    "# Sum the weekly frequency of visits for each user\n",
    "# Then reset the index and sort values by week_start_date\n",
    "user_log = user_log.groupby(['user_id', pd.Grouper(key='week_start_date', freq='W-MON')])\\\n",
    "            ['visited'].sum().reset_index().sort_values('week_start_date')"
   ]
  },
  {
   "cell_type": "code",
   "execution_count": 19,
   "metadata": {},
   "outputs": [],
   "source": [
    "# Merge user_info and user_log into one dataframe\n",
    "# Use left join so only user_ids found in user_log are included in merged dataframe\n",
    "user_merged = pd.merge(left=user_log, right=user_info, \n",
    "                       how='left', left_on='user_id', right_on='object_id')\n",
    "user_merged.drop('object_id', axis=1, inplace=True)"
   ]
  },
  {
   "cell_type": "code",
   "execution_count": 20,
   "metadata": {},
   "outputs": [],
   "source": [
    "# Add a bool column adopted_user that is \n",
    "# true when a user visted the site three or more times in a week\n",
    "user_merged['adopted_user'] = user_merged['visited'] >= 3"
   ]
  },
  {
   "cell_type": "code",
   "execution_count": 21,
   "metadata": {},
   "outputs": [
    {
     "name": "stdout",
     "output_type": "stream",
     "text": [
      "<class 'pandas.core.frame.DataFrame'>\n",
      "Int64Index: 68796 entries, 0 to 68795\n",
      "Data columns (total 12 columns):\n",
      " #   Column                      Non-Null Count  Dtype         \n",
      "---  ------                      --------------  -----         \n",
      " 0   user_id                     68796 non-null  int64         \n",
      " 1   week_start_date             68796 non-null  datetime64[ns]\n",
      " 2   visited                     68796 non-null  int64         \n",
      " 3   creation_time               68796 non-null  datetime64[ns]\n",
      " 4   name                        68796 non-null  object        \n",
      " 5   email                       68796 non-null  object        \n",
      " 6   creation_source             68796 non-null  object        \n",
      " 7   opted_in_to_mailing_list    68796 non-null  bool          \n",
      " 8   enabled_for_marketing_drip  68796 non-null  bool          \n",
      " 9   org_id                      68796 non-null  int64         \n",
      " 10  invited_by_user_id          68796 non-null  int64         \n",
      " 11  adopted_user                68796 non-null  bool          \n",
      "dtypes: bool(3), datetime64[ns](2), int64(4), object(3)\n",
      "memory usage: 5.4+ MB\n"
     ]
    }
   ],
   "source": [
    "user_merged.info()"
   ]
  },
  {
   "cell_type": "markdown",
   "metadata": {},
   "source": [
    "## Dummy Columns for Categorical Features"
   ]
  },
  {
   "cell_type": "code",
   "execution_count": 22,
   "metadata": {},
   "outputs": [],
   "source": [
    "# Create dummy columns for all categorical columns\n",
    "user_dumb = pd.get_dummies(user_merged, columns=['creation_source'], drop_first=True)"
   ]
  },
  {
   "cell_type": "code",
   "execution_count": 23,
   "metadata": {},
   "outputs": [
    {
     "data": {
      "text/html": [
       "<div>\n",
       "<style scoped>\n",
       "    .dataframe tbody tr th:only-of-type {\n",
       "        vertical-align: middle;\n",
       "    }\n",
       "\n",
       "    .dataframe tbody tr th {\n",
       "        vertical-align: top;\n",
       "    }\n",
       "\n",
       "    .dataframe thead th {\n",
       "        text-align: right;\n",
       "    }\n",
       "</style>\n",
       "<table border=\"1\" class=\"dataframe\">\n",
       "  <thead>\n",
       "    <tr style=\"text-align: right;\">\n",
       "      <th></th>\n",
       "      <th>user_id</th>\n",
       "      <th>week_start_date</th>\n",
       "      <th>visited</th>\n",
       "      <th>creation_time</th>\n",
       "      <th>name</th>\n",
       "      <th>email</th>\n",
       "      <th>opted_in_to_mailing_list</th>\n",
       "      <th>enabled_for_marketing_drip</th>\n",
       "      <th>org_id</th>\n",
       "      <th>invited_by_user_id</th>\n",
       "      <th>adopted_user</th>\n",
       "      <th>creation_source_ORG_INVITE</th>\n",
       "      <th>creation_source_PERSONAL_PROJECTS</th>\n",
       "      <th>creation_source_SIGNUP</th>\n",
       "      <th>creation_source_SIGNUP_GOOGLE_AUTH</th>\n",
       "    </tr>\n",
       "  </thead>\n",
       "  <tbody>\n",
       "    <tr>\n",
       "      <th>0</th>\n",
       "      <td>6047</td>\n",
       "      <td>2012-05-28</td>\n",
       "      <td>1</td>\n",
       "      <td>2012-06-02 20:33:31</td>\n",
       "      <td>Lawes Victoria</td>\n",
       "      <td>VictoriaLawes@gmail.com</td>\n",
       "      <td>True</td>\n",
       "      <td>True</td>\n",
       "      <td>298</td>\n",
       "      <td>0</td>\n",
       "      <td>False</td>\n",
       "      <td>0</td>\n",
       "      <td>0</td>\n",
       "      <td>0</td>\n",
       "      <td>1</td>\n",
       "    </tr>\n",
       "    <tr>\n",
       "      <th>1</th>\n",
       "      <td>2494</td>\n",
       "      <td>2012-05-28</td>\n",
       "      <td>1</td>\n",
       "      <td>2012-06-03 00:58:46</td>\n",
       "      <td>Robinson Christopher</td>\n",
       "      <td>fboqoxyy@wqmog.com</td>\n",
       "      <td>False</td>\n",
       "      <td>False</td>\n",
       "      <td>270</td>\n",
       "      <td>2494</td>\n",
       "      <td>False</td>\n",
       "      <td>1</td>\n",
       "      <td>0</td>\n",
       "      <td>0</td>\n",
       "      <td>0</td>\n",
       "    </tr>\n",
       "    <tr>\n",
       "      <th>2</th>\n",
       "      <td>1551</td>\n",
       "      <td>2012-05-28</td>\n",
       "      <td>1</td>\n",
       "      <td>2012-06-02 08:27:26</td>\n",
       "      <td>Gomes Bruna</td>\n",
       "      <td>BrunaCastroGomes@cuvox.de</td>\n",
       "      <td>False</td>\n",
       "      <td>False</td>\n",
       "      <td>226</td>\n",
       "      <td>6434</td>\n",
       "      <td>False</td>\n",
       "      <td>0</td>\n",
       "      <td>0</td>\n",
       "      <td>0</td>\n",
       "      <td>0</td>\n",
       "    </tr>\n",
       "    <tr>\n",
       "      <th>3</th>\n",
       "      <td>4584</td>\n",
       "      <td>2012-05-28</td>\n",
       "      <td>1</td>\n",
       "      <td>2012-06-02 06:37:08</td>\n",
       "      <td>Eriksen Helena</td>\n",
       "      <td>HelenaMEriksen@hotmail.com</td>\n",
       "      <td>False</td>\n",
       "      <td>False</td>\n",
       "      <td>102</td>\n",
       "      <td>0</td>\n",
       "      <td>False</td>\n",
       "      <td>0</td>\n",
       "      <td>1</td>\n",
       "      <td>0</td>\n",
       "      <td>0</td>\n",
       "    </tr>\n",
       "    <tr>\n",
       "      <th>4</th>\n",
       "      <td>2136</td>\n",
       "      <td>2012-05-28</td>\n",
       "      <td>1</td>\n",
       "      <td>2012-06-02 07:58:51</td>\n",
       "      <td>Freytag Kathrin</td>\n",
       "      <td>KathrinFreytag@hotmail.com</td>\n",
       "      <td>False</td>\n",
       "      <td>True</td>\n",
       "      <td>0</td>\n",
       "      <td>6961</td>\n",
       "      <td>False</td>\n",
       "      <td>0</td>\n",
       "      <td>0</td>\n",
       "      <td>0</td>\n",
       "      <td>0</td>\n",
       "    </tr>\n",
       "  </tbody>\n",
       "</table>\n",
       "</div>"
      ],
      "text/plain": [
       "   user_id week_start_date  visited       creation_time                  name  \\\n",
       "0     6047      2012-05-28        1 2012-06-02 20:33:31        Lawes Victoria   \n",
       "1     2494      2012-05-28        1 2012-06-03 00:58:46  Robinson Christopher   \n",
       "2     1551      2012-05-28        1 2012-06-02 08:27:26           Gomes Bruna   \n",
       "3     4584      2012-05-28        1 2012-06-02 06:37:08        Eriksen Helena   \n",
       "4     2136      2012-05-28        1 2012-06-02 07:58:51       Freytag Kathrin   \n",
       "\n",
       "                        email  opted_in_to_mailing_list  \\\n",
       "0     VictoriaLawes@gmail.com                      True   \n",
       "1          fboqoxyy@wqmog.com                     False   \n",
       "2   BrunaCastroGomes@cuvox.de                     False   \n",
       "3  HelenaMEriksen@hotmail.com                     False   \n",
       "4  KathrinFreytag@hotmail.com                     False   \n",
       "\n",
       "   enabled_for_marketing_drip  org_id  invited_by_user_id  adopted_user  \\\n",
       "0                        True     298                   0         False   \n",
       "1                       False     270                2494         False   \n",
       "2                       False     226                6434         False   \n",
       "3                       False     102                   0         False   \n",
       "4                        True       0                6961         False   \n",
       "\n",
       "   creation_source_ORG_INVITE  creation_source_PERSONAL_PROJECTS  \\\n",
       "0                           0                                  0   \n",
       "1                           1                                  0   \n",
       "2                           0                                  0   \n",
       "3                           0                                  1   \n",
       "4                           0                                  0   \n",
       "\n",
       "   creation_source_SIGNUP  creation_source_SIGNUP_GOOGLE_AUTH  \n",
       "0                       0                                   1  \n",
       "1                       0                                   0  \n",
       "2                       0                                   0  \n",
       "3                       0                                   0  \n",
       "4                       0                                   0  "
      ]
     },
     "execution_count": 23,
     "metadata": {},
     "output_type": "execute_result"
    }
   ],
   "source": [
    "# View resulting dataframe\n",
    "user_dumb.head()"
   ]
  },
  {
   "cell_type": "markdown",
   "metadata": {},
   "source": [
    "## Test Train Split"
   ]
  },
  {
   "cell_type": "code",
   "execution_count": 24,
   "metadata": {},
   "outputs": [],
   "source": [
    "# Set dependent variable to active user column\n",
    "y = user_dumb['adopted_user']\n",
    "\n",
    "# Use all remaining columns (besides date columns) as independent variables\n",
    "X = user_dumb.drop(['user_id', 'week_start_date', 'creation_time', 'name', 'email', 'adopted_user'], axis=1)"
   ]
  },
  {
   "cell_type": "code",
   "execution_count": 25,
   "metadata": {},
   "outputs": [
    {
     "name": "stdout",
     "output_type": "stream",
     "text": [
      "(51597, 9) (51597,)\n",
      "(17199, 9) (17199,)\n"
     ]
    }
   ],
   "source": [
    "# Train test split data, keeping 25% of data for test\n",
    "X_train, X_test, y_train, y_test = train_test_split(X, y, test_size=0.25)\n",
    "\n",
    "# Print train and test shapes\n",
    "print(X_train.shape, y_train.shape)\n",
    "print(X_test.shape, y_test.shape)"
   ]
  },
  {
   "cell_type": "markdown",
   "metadata": {},
   "source": [
    "## Dependent Variable Class Distribution"
   ]
  },
  {
   "cell_type": "code",
   "execution_count": 26,
   "metadata": {},
   "outputs": [
    {
     "data": {
      "image/png": "[encoded data removed]",
      "text/plain": [
       "<Figure size 432x288 with 1 Axes>"
      ]
     },
     "metadata": {
      "needs_background": "light"
     },
     "output_type": "display_data"
    }
   ],
   "source": [
    "_ = user_merged['adopted_user'].value_counts().plot(kind='bar')\n",
    "_ = plt.xticks(rotation=0)\n",
    "_ = plt.title('Number of Adopted Users', fontsize=14)\n",
    "_ = plt.xlabel('Adopted User', fontsize=12)\n",
    "_ = plt.ylabel('Number of Users', fontsize=12)"
   ]
  },
  {
   "cell_type": "markdown",
   "metadata": {},
   "source": [
    "## Modeling\n",
    "\n",
    "Learning type: Supervised learning\n",
    "- Data labelled as adopted user or not\n",
    "\n",
    "Model Type: Binary, classification probelm\n",
    "- Discrete variables with two types; either adopted or not\n",
    "\n",
    "Evaluation Metric: accuracy\n",
    " - Dependent variable has even class distribution\n",
    " \n",
    "Binary, classification models:\n",
    "- Support Vector Machines: performs poorly for overlapping classes so will not use in this case\n",
    "- Naive Bayes: assumes all features are independent and contribute equally so will not use in this case\n",
    "- K-Nearest Neighbors: more commonly used on small datasets with limited number of features so will not use in this case\n",
    "- Logistic regression: easily outperformed so will not use in this case\n",
    "- Decision trees: prone to overfitting and sensitive to data so will not use in this case\n",
    "- Random forest: useful to extract feature importance which is what we are solving for so will use \n",
    "- XGBoost: good at extracting feature importance and less prone to overfitting but harder to tune\n",
    "\n",
    "**Random forest will be used in this case**\n",
    "- XGBoost also a model to consider but since requires more attention to tuning will not use in the interest of time"
   ]
  },
  {
   "cell_type": "code",
   "execution_count": 27,
   "metadata": {},
   "outputs": [
    {
     "name": "stdout",
     "output_type": "stream",
     "text": [
      "{'n_estimators': 300, 'max_depth': 5, 'criterion': 'entropy'}\n",
      "1.0\n"
     ]
    }
   ],
   "source": [
    "# Use RandomizedSearchCV to find best parameters for Random Forest Model\n",
    "param_grid_rf = {'n_estimators':[100, 200, 300, 400, 500, 600, 700, 800, 900, 1000],\n",
    "                 'criterion':['gini', 'entropy'],\n",
    "                 'max_depth':[3, 4, 5, 6, 7, 8, 9, 10, 12, 13]}\n",
    "rf = RandomForestClassifier()\n",
    "cv = RandomizedSearchCV(rf, param_grid_rf, cv=5) # Split training data into 5 cross validations\n",
    "cv.fit(X_train, y_train) \n",
    "print(cv.best_params_)\n",
    "print(cv.best_score_)"
   ]
  },
  {
   "cell_type": "code",
   "execution_count": 28,
   "metadata": {},
   "outputs": [],
   "source": [
    "# Define the best parameters from the outcome of the above RandomizedSearch\n",
    "best_n_estimators = cv.best_params_['n_estimators']\n",
    "best_criterion = cv.best_params_['criterion']\n",
    "best_max_depth = cv.best_params_['max_depth']\n",
    "\n",
    "# Start time to predict model runtime\n",
    "start = timeit.default_timer()\n",
    "\n",
    "# Fit and predict model using best parameter\n",
    "best = RandomForestClassifier(n_estimators=best_n_estimators, criterion=best_criterion,\n",
    "                                 max_depth=best_max_depth)\n",
    "best.fit(X_train, y_train)\n",
    "y_pred = best.predict(X_test)\n",
    "\n",
    "# Stop time to predict model runtime\n",
    "stop = timeit.default_timer()\n",
    "\n",
    "# Define model runtime variable\n",
    "time = stop - start"
   ]
  },
  {
   "cell_type": "code",
   "execution_count": 29,
   "metadata": {},
   "outputs": [
    {
     "name": "stdout",
     "output_type": "stream",
     "text": [
      "Classification Report: Random Forest Classifier Model\n",
      "\n",
      "              precision    recall  f1-score   support\n",
      "\n",
      "       False       1.00      1.00      1.00      8807\n",
      "        True       1.00      1.00      1.00      8392\n",
      "\n",
      "    accuracy                           1.00     17199\n",
      "   macro avg       1.00      1.00      1.00     17199\n",
      "weighted avg       1.00      1.00      1.00     17199\n",
      "\n"
     ]
    }
   ],
   "source": [
    "print('Classification Report: Random Forest Classifier Model')\n",
    "print('')\n",
    "print(classification_report(y_test, y_pred))"
   ]
  },
  {
   "cell_type": "code",
   "execution_count": 30,
   "metadata": {
    "scrolled": true
   },
   "outputs": [
    {
     "name": "stdout",
     "output_type": "stream",
     "text": [
      "[1. 1. 1. 1. 1.]\n",
      "\n",
      "Mean cross validation train score:  1.0\n",
      "Standard deviation in train cv scores:  0.0\n",
      "\n",
      "Mean cross validation test score:  1.0\n",
      "Standard deviation in test cv scores:  0.0\n",
      "\n",
      "Runtime:  3.2876471589988796\n"
     ]
    }
   ],
   "source": [
    "# Define F1 score\n",
    "accuracy = make_scorer(accuracy_score)\n",
    "\n",
    "# Cross-validate model performance\n",
    "cv_test = cross_val_score(best, X_test, y_test, cv=5, scoring=accuracy)\n",
    "cv_train = cross_val_score(best, X_train, y_train, cv=5, scoring=accuracy)\n",
    "print(cv_test)\n",
    "\n",
    "# Find average of CV scores for test & train\n",
    "cv_train_avg = cv_train.mean()\n",
    "cv_train_std = cv_train.std()\n",
    "cv_test_avg = cv_test.mean()\n",
    "cv_test_std = cv_test.std()\n",
    "print('')\n",
    "print ('Mean cross validation train score: ', cv_train_avg)\n",
    "print ('Standard deviation in train cv scores: ', cv_train_std)\n",
    "print('')\n",
    "print ('Mean cross validation test score: ', cv_test_avg)\n",
    "print ('Standard deviation in test cv scores: ', cv_test_std)\n",
    "print('')\n",
    "print('Runtime: ', time)"
   ]
  },
  {
   "cell_type": "markdown",
   "metadata": {},
   "source": [
    "## Feature Importance"
   ]
  },
  {
   "cell_type": "code",
   "execution_count": 31,
   "metadata": {},
   "outputs": [
    {
     "data": {
      "text/html": [
       "<div>\n",
       "<style scoped>\n",
       "    .dataframe tbody tr th:only-of-type {\n",
       "        vertical-align: middle;\n",
       "    }\n",
       "\n",
       "    .dataframe tbody tr th {\n",
       "        vertical-align: top;\n",
       "    }\n",
       "\n",
       "    .dataframe thead th {\n",
       "        text-align: right;\n",
       "    }\n",
       "</style>\n",
       "<table border=\"1\" class=\"dataframe\">\n",
       "  <thead>\n",
       "    <tr style=\"text-align: right;\">\n",
       "      <th></th>\n",
       "      <th>Features</th>\n",
       "      <th>Importance scores</th>\n",
       "    </tr>\n",
       "  </thead>\n",
       "  <tbody>\n",
       "    <tr>\n",
       "      <th>1</th>\n",
       "      <td>visited</td>\n",
       "      <td>0.000048</td>\n",
       "    </tr>\n",
       "    <tr>\n",
       "      <th>2</th>\n",
       "      <td>opted_in_to_mailing_list</td>\n",
       "      <td>0.000136</td>\n",
       "    </tr>\n",
       "    <tr>\n",
       "      <th>3</th>\n",
       "      <td>enabled_for_marketing_drip</td>\n",
       "      <td>0.000249</td>\n",
       "    </tr>\n",
       "    <tr>\n",
       "      <th>4</th>\n",
       "      <td>org_id</td>\n",
       "      <td>0.000294</td>\n",
       "    </tr>\n",
       "    <tr>\n",
       "      <th>5</th>\n",
       "      <td>invited_by_user_id</td>\n",
       "      <td>0.000329</td>\n",
       "    </tr>\n",
       "    <tr>\n",
       "      <th>6</th>\n",
       "      <td>creation_source_ORG_INVITE</td>\n",
       "      <td>0.000459</td>\n",
       "    </tr>\n",
       "    <tr>\n",
       "      <th>7</th>\n",
       "      <td>creation_source_PERSONAL_PROJECTS</td>\n",
       "      <td>0.002498</td>\n",
       "    </tr>\n",
       "    <tr>\n",
       "      <th>8</th>\n",
       "      <td>creation_source_SIGNUP</td>\n",
       "      <td>0.005124</td>\n",
       "    </tr>\n",
       "    <tr>\n",
       "      <th>9</th>\n",
       "      <td>creation_source_SIGNUP_GOOGLE_AUTH</td>\n",
       "      <td>0.990864</td>\n",
       "    </tr>\n",
       "  </tbody>\n",
       "</table>\n",
       "</div>"
      ],
      "text/plain": [
       "                             Features  Importance scores\n",
       "1                             visited           0.000048\n",
       "2            opted_in_to_mailing_list           0.000136\n",
       "3          enabled_for_marketing_drip           0.000249\n",
       "4                              org_id           0.000294\n",
       "5                  invited_by_user_id           0.000329\n",
       "6          creation_source_ORG_INVITE           0.000459\n",
       "7   creation_source_PERSONAL_PROJECTS           0.002498\n",
       "8              creation_source_SIGNUP           0.005124\n",
       "9  creation_source_SIGNUP_GOOGLE_AUTH           0.990864"
      ]
     },
     "execution_count": 31,
     "metadata": {},
     "output_type": "execute_result"
    }
   ],
   "source": [
    "# Rank feature importance\n",
    "features = X\n",
    "importances = list(best.feature_importances_)\n",
    "importances_sorted = np.sort(importances)\n",
    "importance_table = pd.DataFrame(list(zip(X, importances_sorted)), \n",
    "                                columns =['Features', 'Importance scores'],\n",
    "                                index=[1, 2, 3, 4, 5, 6, 7, 8, 9]) \n",
    "importance_table"
   ]
  },
  {
   "cell_type": "code",
   "execution_count": 32,
   "metadata": {},
   "outputs": [
    {
     "data": {
      "image/png": "[encoded data removed]",
      "text/plain": [
       "<Figure size 720x360 with 1 Axes>"
      ]
     },
     "metadata": {
      "needs_background": "light"
     },
     "output_type": "display_data"
    }
   ],
   "source": [
    "# Bar graph of feature importance\n",
    "index = [0, 1, 2, 3, 4, 5, 6, 7, 8]\n",
    "_ = plt.figure(figsize=(10, 5))\n",
    "_ = plt.barh(index, importances_sorted)\n",
    "_ = plt.xlabel('Relative Importance', fontsize=15)\n",
    "_ = plt.yticks(index, features)\n",
    "_ = plt.title('Feature Importances for Random Forest Classifier Model', fontsize=15)\n",
    "plt.show()"
   ]
  },
  {
   "cell_type": "markdown",
   "metadata": {},
   "source": [
    "## Take Aways\n",
    "\n",
    "Random Forest was able to correctly classify all users. The above model has a cross validation score of 1.0 with a standard deviation of 0. The optimal parameters are 300 trees, a max depth of 5, and entropy for node impurity. Runtime was 3.3. Google authentication creation source was found to be the single most important feature with 99% of the relative importance."
   ]
  }
 ],
 "metadata": {
  "kernelspec": {
   "display_name": "Python 3",
   "language": "python",
   "name": "python3"
  },
  "language_info": {
   "codemirror_mode": {
    "name": "ipython",
    "version": 3
   },
   "file_extension": ".py",
   "mimetype": "text/x-python",
   "name": "python",
   "nbconvert_exporter": "python",
   "pygments_lexer": "ipython3",
   "version": "3.6.10"
  }
 },
 "nbformat": 4,
 "nbformat_minor": 4
}
